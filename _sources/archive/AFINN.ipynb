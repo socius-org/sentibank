{
 "cells": [
  {
   "cell_type": "markdown",
   "metadata": {},
   "source": [
    "# AFINN "
   ]
  },
  {
   "cell_type": "markdown",
   "metadata": {},
   "source": [
    "## Sentiment ratings for **common emotion and attitude words** 🗣️, including internet slang."
   ]
  },
  {
   "cell_type": "markdown",
   "metadata": {},
   "source": [
    "```{admonition} Summary  \n",
    ":class: tip\n",
    "\n",
    "**Composition:** \n",
    "\n",
    "- Approximately 3.4k unigram entries (with 30 bigrams, such as “fed up”) \n",
    "- Words representing attitudes and emotions\n",
    "- Multi-Class labels from -5 (very negative) to +5 (very positive)\n",
    "\n",
    "**Creation Methodology:**\n",
    "\n",
    "- From a variety of public domain sources, the author collected obscene words, affective words, emotion words and internet slangs\n",
    "- Manual annotation by the author starting in 2009\n",
    "- Refinements and additions over multiple versions \n",
    "\n",
    "**Evaluation:** Nielsen (2011) compared AFINN against four other sentiment dictionaries on a dataset of 1,000 tweets from the [Pulse of a Nation](http://www.ccs.neu.edu/home/amislove/twittermood/) study, where each tweet was manually labelled for sentiment strength by 10 independent raters.\n",
    "\n",
    "AFINN achieved the highest Pearson correlation with human ratings (0.564), outperforming comparable lexicons including Harvard GI (0.374), OpinionFinder (0.458), and ANEW (0.525).\n",
    "\n",
    "**Usage Guidance:** General purpose lexicon suitable for getting started with sentiment analysis. Can pair with domain-specific lexicons. Access via `sentibank.archive.load().dict(“AFINN_v2011”)`\n",
    "```"
   ]
  },
  {
   "cell_type": "markdown",
   "metadata": {},
   "source": [
    "```{contents}\n",
    ":local:\n",
    "```"
   ]
  },
  {
   "cell_type": "markdown",
   "metadata": {},
   "source": [
    "## 📋 Introduction \n",
    "\n",
    "The AFINN (Nielsen, 2011) sentiment lexicon was created to capture both common emotional words and informal internet slang. It provides manually annotated sentiment labels ranging from -5 to +5 for each entry. Though Harvard General Inquirer and OpinionFinder have larger word lists, the author notes AFINN's granular sentiment scoring appears superior to simple binary polarity. This highlights the value of manual valence annotations even for informal terms."
   ]
  },
  {
   "cell_type": "markdown",
   "metadata": {},
   "source": [
    "## 📚 Original Dictionary "
   ]
  },
  {
   "cell_type": "markdown",
   "metadata": {},
   "source": [
    "### ver.2009 \n",
    " \n",
    "AFINN dictionary was initiated in 2009 using tweets in relation to the United Nation Climate Conference (COP15). Over 1,400 lexicons were manually scored by the author based on observed usage on social media. The dictionary was gradually expanded by examining social media posts and internet slang terms from public sources. "
   ]
  },
  {
   "cell_type": "markdown",
   "metadata": {},
   "source": [
    "### ver.2011 \n",
    "\n",
    "The 2011 update to the AFINN sentiment lexicon saw the addition of 997 new words and phrases, bringing the total to 2,477 entries. This expansion drew from several sources to cover a wider range of sentiment-conveying language. \n",
    "\n",
    "The author started by adding a set of obscene and profane terms based on prior taboo word lists (Baudhuin, 1973; Sapolsky, Shafer, and Kaye, 2008, cited in Nielsen, 2011). \n",
    "Additional positive and negative emotional words came from the [Original Balanced Affective Word lIst](https://web.archive.org/web/20101225053939/http://www.sci.sdsu.edu/CAL/wordlist/origwordlist.html) and [The Compass DeRose Guide to Emotion Words](https://web.archive.org/web/20110217053606/http://www.derose.net/steve/resources/emotionwords/ewords.html). Synonyms of these entries were found using [Wiktionary](https://en.wiktionary.org/) to broaden the lexical coverage. Note that ambiguous words like \"surprise\" were excluded to focus on clear sentiments. Most positive terms were rated +2 and most negatives -2, with strong obscenities scoring -4 or -5. \n",
    "Internet slang and acronyms were pulled from [Urban Dictionary](https://www.urbandictionary.com/) to capture modern informal language. "
   ]
  },
  {
   "cell_type": "markdown",
   "metadata": {},
   "source": [
    "### ver.2015 \n",
    "\n",
    "By 2015, the AFINN lexicon had grown to 3,382 total entries through further expansion of sources and coverage. This iterative, crowdsourced approach allowed the sentiment dictionary to reflect real language usage across formal and informal domains."
   ]
  },
  {
   "cell_type": "code",
   "execution_count": null,
   "metadata": {},
   "outputs": [],
   "source": [
    "from sentibank import archive \n",
    "\n",
    "load = archive.load()\n",
    "afinn = load.origin(\"AFINN_v2015\")"
   ]
  },
  {
   "cell_type": "code",
   "execution_count": null,
   "metadata": {
    "tags": [
     "remove-input"
    ]
   },
   "outputs": [],
   "source": [
    "from itables import init_notebook_mode, show \n",
    "\n",
    "init_notebook_mode(all_interactive=True)\n",
    "show(afinn, caption=\"AFINN (Nielsen, 2011)\", maxBytes=0)"
   ]
  },
  {
   "cell_type": "markdown",
   "metadata": {},
   "source": [
    "## 🧹 Processed Dictionary "
   ]
  },
  {
   "cell_type": "markdown",
   "metadata": {},
   "source": [
    "From the original csv, no notable changes were made. "
   ]
  },
  {
   "cell_type": "markdown",
   "metadata": {},
   "source": []
  }
 ],
 "metadata": {
  "kernelspec": {
   "display_name": "base",
   "language": "python",
   "name": "python3"
  },
  "language_info": {
   "codemirror_mode": {
    "name": "ipython",
    "version": 3
   },
   "file_extension": ".py",
   "mimetype": "text/x-python",
   "name": "python",
   "nbconvert_exporter": "python",
   "pygments_lexer": "ipython3",
   "version": "3.9.12"
  },
  "orig_nbformat": 4
 },
 "nbformat": 4,
 "nbformat_minor": 2
}
