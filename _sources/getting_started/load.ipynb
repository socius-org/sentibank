{
 "cells": [
  {
   "cell_type": "markdown",
   "metadata": {},
   "source": [
    "# Load Dictionaries"
   ]
  },
  {
   "cell_type": "markdown",
   "metadata": {},
   "source": [
    "## 📚 Available Dictionaries\n",
    "\n",
    "`sentibank` offers a comprehensive collection of sentiment dictionaries, including 15 original dictionaries and 43 preprocessed versions. To access the original dictionaries, you can use the predefined lexicon identifier following the `{NAME}_{VERSION}` convention.\n",
    "\n",
    "For the preprocessed dictionaries, there are two naming conventions:\n",
    "\n",
    "1. `{NAME}_{VERSION}`: This convention indicates that only compulsory processing has been applied to the base lexicon.\n",
    "\n",
    "2. `{NAME}_{VERSION}_{refined}`: This structure specifies additional transformations or discretionary refinements that have been applied to the base lexicon.\n",
    "\n",
    "For example, `NoVAD_v2013_boosted` applies arousal-based adjustments to intensify extreme valence values and dampen neutral ones, providing a richness-preserving single score.\n",
    "\n",
    "To view the available predefined lexicon identifiers and their corresponding dictionaries, please click and open the List of Available Dictionaries below."
   ]
  },
  {
   "cell_type": "markdown",
   "metadata": {},
   "source": [
    "<details><summary>List of Available Dictionaries</summary>\n",
    "\n",
    "| Sentiment Dictionary | Affiliated Institution <br> (Principal Investigator) | Description | Genre | Domain | Predefined Identifiers (preprocessed) |\n",
    "|------------------------|---------------------|---------------|------|-----|------------------------|\n",
    "|**AFINN** <br> (Nielsen, 2011)| DTU Informatics <br> (Technical University of Denmark) | General purpose lexicon with sentiment ratings for common emotion words. |Social Media|General| `AFINN_v2009`, `AFINN_v2011`, `AFINN_v2015` |\n",
    "|**Aigents+** <br> (Raheman et al., 2022)| Autonio Foundation | Lexicon optimised for social media posts related to cryptocurrencies. |Social Media|Cryptocurrency| `Aigents+_v2022`|\n",
    "|**ANEW** <br> (Bradley and Lang, 1999)| NIMH Center for Emotion and Attention <br> (University of Florida) | Provides normative emotional ratings across pleasure, arousal, and dominance dimensions.|General|Psychology|`ANEW_v1999_simple`, `ANEW_v1999_weighted`|\n",
    "|**Dictionary of Affect in Language (DAL)** <br> (Whissell, 1989; Whissell, 2009)| Laurentian University | Lexicon designed to quantify pleasantness, activation, and imagery dimensions across diverse everyday English words. | General | General | `DAL_v2009_norm`, `DAL_v2009_boosted`|\n",
    "|**Discrete Emotions Dictionary (DED)** <br> (Fioroni et al., 2022)| Gallup | Lexicon focused on precisely distinguishing four key discrete emotions in political communication | News | Political Science | `DED_v2022` |\n",
    "|**General Inquirer** <br> (Stone et al., 1962)| Harvard University | Lexicon capturing broad psycholinguistic dimensions across semantics, values and motivations.  |General|Psychology, Political Science| `HarvardGI_v2000`|\n",
    "|**Henry** <br> (Henry, 2006) | University of Miami  | Leixcon designed for analysing tone in earnings press releases. |Corporate Communication (Earnings Press Releases)|Finance| `Henry_v2006`|\n",
    "|**MASTER** <br> (Loughran and McDonland, 2011; Bodnaruk, Loughran and McDonald, 2015)| University of Notre Dame | Financial lexicons covering expressions common in business writing. |Regulatory Filings (10-K)|Finance| `MASTER_v2022`|\n",
    "|**Norms of Valence, Arousal and Dominance (NoVAD)** <br> (Warriner, Kuperman and Brysbaert, 2013; Warriner and Kuperman, 2014)| McMaster University | A lexicon of 14,000 common English lemmas across valence, arousal, and dominance dimensions.  | General | Psychology |  `NoVAD_v2013_norm`, `NoVAD_v2013_boosted`|\n",
    "|**OpinionLexicon** <br> (Hu and Liu, 2004)| University of Illinois Chicago | Opinion words tailored for sentiment analysis of product reviews.|Product Reviews|Consumer Products|`OpinionLexicon_v2004`|\n",
    "|**SenticNet** <br> (Cambria et al., 2010; Cambria, Havasi and Hussain, 2012; Cambria, Olsher and Rajagopal, 2014; Cambria et al., 2016, 2018, 2020, 2022) | Sentic Research Group <br> (Initiative at Massachusetts Institute of Technology, currently maintained by Nanyang Technological University) | Conceptual lexicon providing multidimensional sentiment analysis for commonsense concepts and expressions. | General | General | `SenticNet_v2010`, `SenticNet_v2012`, `SenticNet_v2012_attributes`, `SenticNet_v2012_semantics`, `SenticNet_v2014`, `SenticNet_v2014_attributes`, `SenticNet_v2014_semantics`, `SenticNet_v2016`, `SenticNet_v2016_attributes`, `SenticNet_v2016_mood`, `SenticNet_v2016_semantics`, `SenticNet_v2018`, `SenticNet_v2018_attributes`, `SenticNet_v2018_mood`, `SenticNet_v2018_semantics`, `SenticNet_v2020`, `SenticNet_v2020_attributes`, `SenticNet_v2020_mood`, `SenticNet_v2020_semantics`, `SenticNet_v2022`, `SenticNet_v2022_attributes`, `SenticNet_v2022_mood`, `SenticNet_v2022_semantics` |\n",
    "|**SentiWordNet** <br> (Esuli and Sebastiani, 2006; Baccianella, Esuli and Sebastiani, 2010)| Institute of Information Science and Technologies <br>(Consiglio Nazionale delle Ricerche) | Lexicon associating WordNet synsets with positive, negative, and objective scores. |General|General| `SentiWordNet_v2010_simple`, `SentiWordNet_v2010_logtransform` |\n",
    "|**VADER** <br> (Hutto and Gilbert, 2014)| Georgia Institute of Technology | General purpose lexicon optimised for social media and microblogs. |Social Media|General| `VADER_v2014`|\n",
    "|**WordNet-Affect** <br> (Strapparava and Valitutti, 2004; Valitutti, Strapparava and Stock, 2004; Strapparava, Valitutti and Stock, 2006)| Institute for Scientific and Technological Research <br> (Fondazione Bruno Kessler) | Hierarchically organised affective labels providing a  granular emotional dimension. |General|Psychology| `WordNet-Affect_v2006`|\n",
    "</details>"
   ]
  },
  {
   "cell_type": "markdown",
   "metadata": {},
   "source": [
    "## 📖 Load Preprocessed Dictionaries \n",
    "\n",
    "The `sentibank.archive` module provides access to 15 original and 43 preprocessed sentiment dictionaries. To load a preprocessed dictionary in `dict` format:"
   ]
  },
  {
   "cell_type": "code",
   "execution_count": 1,
   "metadata": {},
   "outputs": [],
   "source": [
    "from sentibank import archive\n",
    "\n",
    "load = archive.load()\n",
    "vader = load.dict(\"VADER_v2014\")"
   ]
  },
  {
   "cell_type": "code",
   "execution_count": 15,
   "metadata": {
    "tags": [
     "remove-input"
    ]
   },
   "outputs": [
    {
     "data": {
      "text/html": [
       "<pre style=\"white-space:pre;overflow-x:auto;line-height:normal;font-family:Menlo,'DejaVu Sans Mono',consolas,'Courier New',monospace\"><span style=\"font-weight: bold\">{</span><span style=\"color: #008000; text-decoration-color: #008000\">'$:'</span>: <span style=\"color: #008080; text-decoration-color: #008080; font-weight: bold\">-1.5</span>,\n",
       " <span style=\"color: #008000; text-decoration-color: #008000\">'%)'</span>: <span style=\"color: #008080; text-decoration-color: #008080; font-weight: bold\">-0.4</span>,\n",
       " <span style=\"color: #008000; text-decoration-color: #008000\">'%-)'</span>: <span style=\"color: #008080; text-decoration-color: #008080; font-weight: bold\">-1.5</span>,\n",
       " <span style=\"color: #008000; text-decoration-color: #008000\">'&amp;-:'</span>: <span style=\"color: #008080; text-decoration-color: #008080; font-weight: bold\">-0.4</span>,\n",
       " <span style=\"color: #008000; text-decoration-color: #008000\">'&amp;:'</span>: <span style=\"color: #008080; text-decoration-color: #008080; font-weight: bold\">-0.7</span>,\n",
       " <span style=\"color: #008000; text-decoration-color: #008000\">\"( '}{' )\"</span>: <span style=\"color: #008080; text-decoration-color: #008080; font-weight: bold\">1.6</span>,\n",
       " <span style=\"color: #008000; text-decoration-color: #008000\">'(%'</span>: <span style=\"color: #008080; text-decoration-color: #008080; font-weight: bold\">-0.9</span>,\n",
       " <span style=\"color: #808000; text-decoration-color: #808000\">...</span><span style=\"font-weight: bold\">}</span>\n",
       "</pre>\n"
      ],
      "text/plain": [
       "\u001b[1m{\u001b[0m\u001b[32m'$:'\u001b[0m: \u001b[1;36m-1.5\u001b[0m,\n",
       " \u001b[32m'%\u001b[0m\u001b[32m)\u001b[0m\u001b[32m'\u001b[0m: \u001b[1;36m-0.4\u001b[0m,\n",
       " \u001b[32m'%-\u001b[0m\u001b[32m)\u001b[0m\u001b[32m'\u001b[0m: \u001b[1;36m-1.5\u001b[0m,\n",
       " \u001b[32m'&-:'\u001b[0m: \u001b[1;36m-0.4\u001b[0m,\n",
       " \u001b[32m'&:'\u001b[0m: \u001b[1;36m-0.7\u001b[0m,\n",
       " \u001b[32m\"\u001b[0m\u001b[32m(\u001b[0m\u001b[32m '\u001b[0m\u001b[32m}\u001b[0m\u001b[32m{\u001b[0m\u001b[32m' \u001b[0m\u001b[32m)\u001b[0m\u001b[32m\"\u001b[0m: \u001b[1;36m1.6\u001b[0m,\n",
       " \u001b[32m'\u001b[0m\u001b[32m(\u001b[0m\u001b[32m%'\u001b[0m: \u001b[1;36m-0.9\u001b[0m,\n",
       " \u001b[33m...\u001b[0m\u001b[1m}\u001b[0m\n"
      ]
     },
     "metadata": {},
     "output_type": "display_data"
    }
   ],
   "source": [
    "print(\n",
    "\"\"\"{'$:': -1.5,\n",
    " '%)': -0.4,\n",
    " '%-)': -1.5,\n",
    " '&-:': -0.4,\n",
    " '&:': -0.7,\n",
    " \"( '}{' )\": 1.6,\n",
    " '(%': -0.9,\n",
    " ...}\"\"\"\n",
    ")"
   ]
  },
  {
   "cell_type": "markdown",
   "metadata": {},
   "source": [
    "## 📘 Load Original Dictionaries\n",
    "\n",
    "To load the original (unprocessed) dictionary as a `pd.DataFrame`:"
   ]
  },
  {
   "cell_type": "code",
   "execution_count": 9,
   "metadata": {},
   "outputs": [],
   "source": [
    "from sentibank import archive\n",
    "\n",
    "load = archive.load()\n",
    "afinn = load.origin(\"AFINN_v2015\")"
   ]
  },
  {
   "cell_type": "code",
   "execution_count": 10,
   "metadata": {
    "tags": [
     "remove-input"
    ]
   },
   "outputs": [
    {
     "data": {
      "text/html": [
       "<div>\n",
       "<style scoped>\n",
       "    .dataframe tbody tr th:only-of-type {\n",
       "        vertical-align: middle;\n",
       "    }\n",
       "\n",
       "    .dataframe tbody tr th {\n",
       "        vertical-align: top;\n",
       "    }\n",
       "\n",
       "    .dataframe thead th {\n",
       "        text-align: right;\n",
       "    }\n",
       "</style>\n",
       "<table border=\"1\" class=\"dataframe\">\n",
       "  <thead>\n",
       "    <tr style=\"text-align: right;\">\n",
       "      <th></th>\n",
       "      <th>lexicon</th>\n",
       "      <th>score</th>\n",
       "    </tr>\n",
       "  </thead>\n",
       "  <tbody>\n",
       "    <tr>\n",
       "      <th>0</th>\n",
       "      <td>abandon</td>\n",
       "      <td>-2</td>\n",
       "    </tr>\n",
       "    <tr>\n",
       "      <th>1</th>\n",
       "      <td>abandoned</td>\n",
       "      <td>-2</td>\n",
       "    </tr>\n",
       "    <tr>\n",
       "      <th>2</th>\n",
       "      <td>abandons</td>\n",
       "      <td>-2</td>\n",
       "    </tr>\n",
       "    <tr>\n",
       "      <th>3</th>\n",
       "      <td>abducted</td>\n",
       "      <td>-2</td>\n",
       "    </tr>\n",
       "    <tr>\n",
       "      <th>4</th>\n",
       "      <td>abduction</td>\n",
       "      <td>-2</td>\n",
       "    </tr>\n",
       "    <tr>\n",
       "      <th>...</th>\n",
       "      <td>...</td>\n",
       "      <td>...</td>\n",
       "    </tr>\n",
       "    <tr>\n",
       "      <th>3377</th>\n",
       "      <td>yucky</td>\n",
       "      <td>-2</td>\n",
       "    </tr>\n",
       "    <tr>\n",
       "      <th>3378</th>\n",
       "      <td>yummy</td>\n",
       "      <td>3</td>\n",
       "    </tr>\n",
       "    <tr>\n",
       "      <th>3379</th>\n",
       "      <td>zealot</td>\n",
       "      <td>-2</td>\n",
       "    </tr>\n",
       "    <tr>\n",
       "      <th>3380</th>\n",
       "      <td>zealots</td>\n",
       "      <td>-2</td>\n",
       "    </tr>\n",
       "    <tr>\n",
       "      <th>3381</th>\n",
       "      <td>zealous</td>\n",
       "      <td>2</td>\n",
       "    </tr>\n",
       "  </tbody>\n",
       "</table>\n",
       "<p>3382 rows × 2 columns</p>\n",
       "</div>"
      ],
      "text/plain": [
       "        lexicon  score\n",
       "0       abandon     -2\n",
       "1     abandoned     -2\n",
       "2      abandons     -2\n",
       "3      abducted     -2\n",
       "4     abduction     -2\n",
       "...         ...    ...\n",
       "3377      yucky     -2\n",
       "3378      yummy      3\n",
       "3379     zealot     -2\n",
       "3380    zealots     -2\n",
       "3381    zealous      2\n",
       "\n",
       "[3382 rows x 2 columns]"
      ]
     },
     "execution_count": 10,
     "metadata": {},
     "output_type": "execute_result"
    }
   ],
   "source": [
    "afinn"
   ]
  }
 ],
 "metadata": {
  "kernelspec": {
   "display_name": "base",
   "language": "python",
   "name": "python3"
  },
  "language_info": {
   "codemirror_mode": {
    "name": "ipython",
    "version": 3
   },
   "file_extension": ".py",
   "mimetype": "text/x-python",
   "name": "python",
   "nbconvert_exporter": "python",
   "pygments_lexer": "ipython3",
   "version": "3.10.0"
  },
  "orig_nbformat": 4
 },
 "nbformat": 4,
 "nbformat_minor": 2
}
