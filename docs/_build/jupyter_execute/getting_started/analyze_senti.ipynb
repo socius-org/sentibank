{
 "cells": [
  {
   "cell_type": "markdown",
   "metadata": {},
   "source": [
    "# Analyse Sentiment "
   ]
  },
  {
   "cell_type": "markdown",
   "metadata": {},
   "source": [
    "The `analyze().sentiment` module performs sentiment analysis on text using the specified lexicon dictionary. It utilises a bag-of-words approach, analyzing the occurrence of terms without considering their order.\n",
    "\n",
    "For score-based lexicons like `VADER_v2014`, it sums the scores of matched terms and returns a single float/integer value reflecting overall sentiment. Higher scores indicate more positive/negative sentiment."
   ]
  },
  {
   "cell_type": "code",
   "execution_count": 1,
   "metadata": {},
   "outputs": [],
   "source": [
    "from sentibank.utils import analyze\n",
    "\n",
    "# Analyse the sentiment\n",
    "analyze = analyze()\n",
    "text = \"I am excited and happy about the new anouncement!\"\n",
    "result = analyze.sentiment(text=text, dictionary=\"VADER_v2014\")"
   ]
  },
  {
   "cell_type": "code",
   "execution_count": 2,
   "metadata": {
    "tags": [
     "remove-input"
    ]
   },
   "outputs": [
    {
     "data": {
      "text/plain": [
       "4.1"
      ]
     },
     "execution_count": 2,
     "metadata": {},
     "output_type": "execute_result"
    }
   ],
   "source": [
    "result"
   ]
  },
  {
   "cell_type": "markdown",
   "metadata": {},
   "source": [
    "For label-based dictionaries like `HarvardGI_v2000`, it counts matched terms per sentiment category and returns a dictionary of those label counts. The category with the most matches indicates the dominant overall sentiment."
   ]
  },
  {
   "cell_type": "code",
   "execution_count": 3,
   "metadata": {},
   "outputs": [],
   "source": [
    "from sentibank.utils import analyze\n",
    "\n",
    "# Analyse the dictionary\n",
    "analyze = analyze()\n",
    "text = \"I am excited and happy to make this anouncement to our shareholders.\"\n",
    "result = analyze.sentiment(text=text, dictionary=\"MASTER_v2022\")"
   ]
  },
  {
   "cell_type": "code",
   "execution_count": 4,
   "metadata": {
    "tags": [
     "remove-input"
    ]
   },
   "outputs": [
    {
     "data": {
      "text/plain": [
       "{'Negative': 0,\n",
       " 'Uncertainty': 0,\n",
       " 'Constraining': 0,\n",
       " 'Positive': 2,\n",
       " 'Litigious': 0,\n",
       " 'Weak_Modal': 0,\n",
       " 'Strong_Modal': 0}"
      ]
     },
     "execution_count": 4,
     "metadata": {},
     "output_type": "execute_result"
    }
   ],
   "source": [
    "result"
   ]
  }
 ],
 "metadata": {
  "kernelspec": {
   "display_name": "Python 3",
   "language": "python",
   "name": "python3"
  },
  "language_info": {
   "codemirror_mode": {
    "name": "ipython",
    "version": 3
   },
   "file_extension": ".py",
   "mimetype": "text/x-python",
   "name": "python",
   "nbconvert_exporter": "python",
   "pygments_lexer": "ipython3",
   "version": "3.9.12"
  }
 },
 "nbformat": 4,
 "nbformat_minor": 2
}