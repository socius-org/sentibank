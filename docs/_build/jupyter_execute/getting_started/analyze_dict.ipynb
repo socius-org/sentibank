{
 "cells": [
  {
   "cell_type": "markdown",
   "metadata": {},
   "source": [
    "# Analyse Dictionary"
   ]
  },
  {
   "cell_type": "markdown",
   "metadata": {},
   "source": [
    "The `analyze().dictionary` module provides insights into the structure and content of sentiment lexicons. Here's a quick example:"
   ]
  },
  {
   "cell_type": "code",
   "execution_count": 1,
   "metadata": {
    "tags": [
     "hide-output"
    ]
   },
   "outputs": [
    {
     "data": {
      "application/vnd.jupyter.widget-view+json": {
       "model_id": "8191fc7700c5411a8fdeede6ffaecc04",
       "version_major": 2,
       "version_minor": 0
      },
      "text/plain": [
       "Output()"
      ]
     },
     "metadata": {},
     "output_type": "display_data"
    },
    {
     "data": {
      "text/html": [
       "<pre style=\"white-space:pre;overflow-x:auto;line-height:normal;font-family:Menlo,'DejaVu Sans Mono',consolas,'Courier New',monospace\"></pre>\n"
      ],
      "text/plain": []
     },
     "metadata": {},
     "output_type": "display_data"
    },
    {
     "data": {
      "text/html": [
       "<pre style=\"white-space:pre;overflow-x:auto;line-height:normal;font-family:Menlo,'DejaVu Sans Mono',consolas,'Courier New',monospace\">\n",
       "</pre>\n"
      ],
      "text/plain": [
       "\n"
      ]
     },
     "metadata": {},
     "output_type": "display_data"
    },
    {
     "data": {
      "application/vnd.jupyter.widget-view+json": {
       "model_id": "d9cc9d450fd44580b4531bb584720674",
       "version_major": 2,
       "version_minor": 0
      },
      "text/plain": [
       "Output()"
      ]
     },
     "metadata": {},
     "output_type": "display_data"
    },
    {
     "data": {
      "text/html": [
       "<pre style=\"white-space:pre;overflow-x:auto;line-height:normal;font-family:Menlo,'DejaVu Sans Mono',consolas,'Courier New',monospace\"></pre>\n"
      ],
      "text/plain": []
     },
     "metadata": {},
     "output_type": "display_data"
    },
    {
     "data": {
      "text/html": [
       "<pre style=\"white-space:pre;overflow-x:auto;line-height:normal;font-family:Menlo,'DejaVu Sans Mono',consolas,'Courier New',monospace\">\n",
       "</pre>\n"
      ],
      "text/plain": [
       "\n"
      ]
     },
     "metadata": {},
     "output_type": "display_data"
    },
    {
     "data": {
      "text/html": [
       "<pre style=\"white-space:pre;overflow-x:auto;line-height:normal;font-family:Menlo,'DejaVu Sans Mono',consolas,'Courier New',monospace\"><span style=\"font-weight: bold\">{</span>\n",
       "    <span style=\"color: #008000; text-decoration-color: #008000\">'Dictionary Type'</span>: <span style=\"color: #008000; text-decoration-color: #008000\">'categorical (multi-label)'</span>,\n",
       "    <span style=\"color: #008000; text-decoration-color: #008000\">'Sentiment Score'</span>: <span style=\"font-weight: bold\">{</span>\n",
       "        <span style=\"color: #008000; text-decoration-color: #008000\">'labels'</span>: <span style=\"font-weight: bold\">[</span>\n",
       "            <span style=\"color: #008000; text-decoration-color: #008000\">'Negative'</span>,\n",
       "            <span style=\"color: #008000; text-decoration-color: #008000\">'Uncertainty'</span>,\n",
       "            <span style=\"color: #008000; text-decoration-color: #008000\">'Constraining'</span>,\n",
       "            <span style=\"color: #008000; text-decoration-color: #008000\">'Positive'</span>,\n",
       "            <span style=\"color: #008000; text-decoration-color: #008000\">'Litigious'</span>,\n",
       "            <span style=\"color: #008000; text-decoration-color: #008000\">'Weak_Modal'</span>,\n",
       "            <span style=\"color: #008000; text-decoration-color: #008000\">'Strong_Modal'</span>\n",
       "        <span style=\"font-weight: bold\">]</span>,\n",
       "        <span style=\"color: #008000; text-decoration-color: #008000\">'label frequency'</span>: <span style=\"font-weight: bold\">{</span>\n",
       "            <span style=\"color: #008000; text-decoration-color: #008000\">'Negative'</span>: <span style=\"color: #008080; text-decoration-color: #008080; font-weight: bold\">2355</span>,\n",
       "            <span style=\"color: #008000; text-decoration-color: #008000\">'Litigious'</span>: <span style=\"color: #008080; text-decoration-color: #008080; font-weight: bold\">905</span>,\n",
       "            <span style=\"color: #008000; text-decoration-color: #008000\">'Positive'</span>: <span style=\"color: #008080; text-decoration-color: #008080; font-weight: bold\">354</span>,\n",
       "            <span style=\"color: #008000; text-decoration-color: #008000\">'Uncertainty'</span>: <span style=\"color: #008080; text-decoration-color: #008080; font-weight: bold\">297</span>,\n",
       "            <span style=\"color: #008000; text-decoration-color: #008000\">'Constraining'</span>: <span style=\"color: #008080; text-decoration-color: #008080; font-weight: bold\">184</span>,\n",
       "            <span style=\"color: #008000; text-decoration-color: #008000\">'Weak_Modal'</span>: <span style=\"color: #008080; text-decoration-color: #008080; font-weight: bold\">27</span>,\n",
       "            <span style=\"color: #008000; text-decoration-color: #008000\">'Strong_Modal'</span>: <span style=\"color: #008080; text-decoration-color: #008080; font-weight: bold\">19</span>\n",
       "        <span style=\"font-weight: bold\">}</span>,\n",
       "        <span style=\"color: #008000; text-decoration-color: #008000\">'multi label frequency'</span>: <span style=\"font-weight: bold\">{</span>\n",
       "            <span style=\"font-weight: bold\">(</span><span style=\"color: #008000; text-decoration-color: #008000\">'Negative'</span>, <span style=\"color: #008000; text-decoration-color: #008000\">'Litigious'</span><span style=\"font-weight: bold\">)</span>: <span style=\"color: #008080; text-decoration-color: #008080; font-weight: bold\">154</span>,\n",
       "            <span style=\"font-weight: bold\">(</span><span style=\"color: #008000; text-decoration-color: #008000\">'Negative'</span>, <span style=\"color: #008000; text-decoration-color: #008000\">'Uncertainty'</span><span style=\"font-weight: bold\">)</span>: <span style=\"color: #008080; text-decoration-color: #008080; font-weight: bold\">40</span>,\n",
       "            <span style=\"font-weight: bold\">(</span><span style=\"color: #008000; text-decoration-color: #008000\">'Negative'</span>, <span style=\"color: #008000; text-decoration-color: #008000\">'Constraining'</span><span style=\"font-weight: bold\">)</span>: <span style=\"color: #008080; text-decoration-color: #008080; font-weight: bold\">31</span>,\n",
       "            <span style=\"font-weight: bold\">(</span><span style=\"color: #008000; text-decoration-color: #008000\">'Uncertainty'</span>, <span style=\"color: #008000; text-decoration-color: #008000\">'Weak_Modal'</span><span style=\"font-weight: bold\">)</span>: <span style=\"color: #008080; text-decoration-color: #008080; font-weight: bold\">27</span>,\n",
       "            <span style=\"font-weight: bold\">(</span><span style=\"color: #008000; text-decoration-color: #008000\">'Litigious'</span>, <span style=\"color: #008000; text-decoration-color: #008000\">'Constraining'</span><span style=\"font-weight: bold\">)</span>: <span style=\"color: #008080; text-decoration-color: #008080; font-weight: bold\">9</span>,\n",
       "            <span style=\"font-weight: bold\">(</span><span style=\"color: #008000; text-decoration-color: #008000\">'Negative'</span>, <span style=\"color: #008000; text-decoration-color: #008000\">'Litigious'</span>, <span style=\"color: #008000; text-decoration-color: #008000\">'Constraining'</span><span style=\"font-weight: bold\">)</span>: <span style=\"color: #008080; text-decoration-color: #008080; font-weight: bold\">6</span>,\n",
       "            <span style=\"font-weight: bold\">(</span><span style=\"color: #008000; text-decoration-color: #008000\">'Uncertainty'</span>, <span style=\"color: #008000; text-decoration-color: #008000\">'Constraining'</span><span style=\"font-weight: bold\">)</span>: <span style=\"color: #008080; text-decoration-color: #008080; font-weight: bold\">5</span>,\n",
       "            <span style=\"font-weight: bold\">(</span><span style=\"color: #008000; text-decoration-color: #008000\">'Positive'</span>, <span style=\"color: #008000; text-decoration-color: #008000\">'Strong_Modal'</span><span style=\"font-weight: bold\">)</span>: <span style=\"color: #008080; text-decoration-color: #008080; font-weight: bold\">4</span>,\n",
       "            <span style=\"font-weight: bold\">(</span><span style=\"color: #008000; text-decoration-color: #008000\">'Uncertainty'</span>, <span style=\"color: #008000; text-decoration-color: #008000\">'Weak_Modal'</span>, <span style=\"color: #008000; text-decoration-color: #008000\">'Constraining'</span><span style=\"font-weight: bold\">)</span>: <span style=\"color: #008080; text-decoration-color: #008080; font-weight: bold\">3</span>,\n",
       "            <span style=\"font-weight: bold\">(</span><span style=\"color: #008000; text-decoration-color: #008000\">'Weak_Modal'</span>, <span style=\"color: #008000; text-decoration-color: #008000\">'Constraining'</span><span style=\"font-weight: bold\">)</span>: <span style=\"color: #008080; text-decoration-color: #008080; font-weight: bold\">3</span>,\n",
       "            <span style=\"font-weight: bold\">(</span><span style=\"color: #008000; text-decoration-color: #008000\">'Positive'</span>, <span style=\"color: #008000; text-decoration-color: #008000\">'Litigious'</span><span style=\"font-weight: bold\">)</span>: <span style=\"color: #008080; text-decoration-color: #008080; font-weight: bold\">1</span>\n",
       "        <span style=\"font-weight: bold\">}</span>\n",
       "    <span style=\"font-weight: bold\">}</span>,\n",
       "    <span style=\"color: #008000; text-decoration-color: #008000\">'Sentiment Lexicon'</span>: <span style=\"font-weight: bold\">{</span>\n",
       "        <span style=\"color: #008000; text-decoration-color: #008000\">'general'</span>: <span style=\"font-weight: bold\">{</span>\n",
       "            <span style=\"color: #008000; text-decoration-color: #008000\">'nouns'</span>: <span style=\"color: #008080; text-decoration-color: #008080; font-weight: bold\">1650</span>,\n",
       "            <span style=\"color: #008000; text-decoration-color: #008000\">'verbs'</span>: <span style=\"color: #008080; text-decoration-color: #008080; font-weight: bold\">1422</span>,\n",
       "            <span style=\"color: #008000; text-decoration-color: #008000\">'adjectives'</span>: <span style=\"color: #008080; text-decoration-color: #008080; font-weight: bold\">513</span>,\n",
       "            <span style=\"color: #008000; text-decoration-color: #008000\">'adverbs'</span>: <span style=\"color: #008080; text-decoration-color: #008080; font-weight: bold\">262</span>,\n",
       "            <span style=\"color: #008000; text-decoration-color: #008000\">'prepositions'</span>: <span style=\"color: #008080; text-decoration-color: #008080; font-weight: bold\">16</span>,\n",
       "            <span style=\"color: #008000; text-decoration-color: #008000\">'miscellaneous'</span>: <span style=\"color: #008080; text-decoration-color: #008080; font-weight: bold\">12</span>,\n",
       "            <span style=\"color: #008000; text-decoration-color: #008000\">'determiners'</span>: <span style=\"color: #008080; text-decoration-color: #008080; font-weight: bold\">1</span>,\n",
       "            <span style=\"color: #008000; text-decoration-color: #008000\">'conjunctions'</span>: <span style=\"color: #008080; text-decoration-color: #008080; font-weight: bold\">0</span>,\n",
       "            <span style=\"color: #008000; text-decoration-color: #008000\">'pronouns'</span>: <span style=\"color: #008080; text-decoration-color: #008080; font-weight: bold\">0</span>,\n",
       "            <span style=\"color: #008000; text-decoration-color: #008000\">'numerals'</span>: <span style=\"color: #008080; text-decoration-color: #008080; font-weight: bold\">0</span>,\n",
       "            <span style=\"color: #008000; text-decoration-color: #008000\">'particles'</span>: <span style=\"color: #008080; text-decoration-color: #008080; font-weight: bold\">0</span>,\n",
       "            <span style=\"color: #008000; text-decoration-color: #008000\">'emos'</span>: <span style=\"color: #008080; text-decoration-color: #008080; font-weight: bold\">0</span>\n",
       "        <span style=\"font-weight: bold\">}</span>,\n",
       "        <span style=\"color: #008000; text-decoration-color: #008000\">'granular'</span>: <span style=\"font-weight: bold\">{</span>\n",
       "            <span style=\"color: #008000; text-decoration-color: #008000\">'NN (noun, singular or mass)'</span>: <span style=\"color: #008080; text-decoration-color: #008080; font-weight: bold\">830</span>,\n",
       "            <span style=\"color: #008000; text-decoration-color: #008000\">'NNS (noun, plural)'</span>: <span style=\"color: #008080; text-decoration-color: #008080; font-weight: bold\">741</span>,\n",
       "            <span style=\"color: #008000; text-decoration-color: #008000\">'JJ (adjective)'</span>: <span style=\"color: #008080; text-decoration-color: #008080; font-weight: bold\">495</span>,\n",
       "            <span style=\"color: #008000; text-decoration-color: #008000\">'VBG (verb, gerund or present participle)'</span>: <span style=\"color: #008080; text-decoration-color: #008080; font-weight: bold\">434</span>,\n",
       "            <span style=\"color: #008000; text-decoration-color: #008000\">'VBD (verb, past tense)'</span>: <span style=\"color: #008080; text-decoration-color: #008080; font-weight: bold\">341</span>,\n",
       "            <span style=\"color: #008000; text-decoration-color: #008000\">'VB (verb, base form)'</span>: <span style=\"color: #008080; text-decoration-color: #008080; font-weight: bold\">338</span>,\n",
       "            <span style=\"color: #008000; text-decoration-color: #008000\">'RB (adverb)'</span>: <span style=\"color: #008080; text-decoration-color: #008080; font-weight: bold\">257</span>,\n",
       "            <span style=\"color: #008000; text-decoration-color: #008000\">'VBN (verb, past participle)'</span>: <span style=\"color: #008080; text-decoration-color: #008080; font-weight: bold\">152</span>,\n",
       "            <span style=\"color: #008000; text-decoration-color: #008000\">'VBZ (verb, 3rd person singular present)'</span>: <span style=\"color: #008080; text-decoration-color: #008080; font-weight: bold\">150</span>,\n",
       "            <span style=\"color: #008000; text-decoration-color: #008000\">'NNP (noun, proper singular)'</span>: <span style=\"color: #008080; text-decoration-color: #008080; font-weight: bold\">79</span>,\n",
       "            <span style=\"color: #008000; text-decoration-color: #008000\">'IN (conjunction, subordinating or preposition)'</span>: <span style=\"color: #008080; text-decoration-color: #008080; font-weight: bold\">16</span>,\n",
       "            <span style=\"color: #008000; text-decoration-color: #008000\">'JJS (adjective, superlative)'</span>: <span style=\"color: #008080; text-decoration-color: #008080; font-weight: bold\">12</span>,\n",
       "            <span style=\"color: #008000; text-decoration-color: #008000\">'VBP (verb, non-3rd person singular present)'</span>: <span style=\"color: #008080; text-decoration-color: #008080; font-weight: bold\">7</span>,\n",
       "            <span style=\"color: #008000; text-decoration-color: #008000\">'MD (verb, modal auxiliary)'</span>: <span style=\"color: #008080; text-decoration-color: #008080; font-weight: bold\">7</span>,\n",
       "            <span style=\"color: #008000; text-decoration-color: #008000\">'JJR (adjective, comparative)'</span>: <span style=\"color: #008080; text-decoration-color: #008080; font-weight: bold\">6</span>,\n",
       "            <span style=\"color: #008000; text-decoration-color: #008000\">'RBR (adverb, comparative)'</span>: <span style=\"color: #008080; text-decoration-color: #008080; font-weight: bold\">4</span>,\n",
       "            <span style=\"color: #008000; text-decoration-color: #008000\">'FW (foreign word)'</span>: <span style=\"color: #008080; text-decoration-color: #008080; font-weight: bold\">2</span>,\n",
       "            <span style=\"color: #008000; text-decoration-color: #008000\">'WRB (wh-adverb)'</span>: <span style=\"color: #008080; text-decoration-color: #008080; font-weight: bold\">2</span>,\n",
       "            <span style=\"color: #008000; text-decoration-color: #008000\">'RBS (adverb, superlative)'</span>: <span style=\"color: #008080; text-decoration-color: #008080; font-weight: bold\">1</span>,\n",
       "            <span style=\"color: #008000; text-decoration-color: #008000\">'UH (interjection)'</span>: <span style=\"color: #008080; text-decoration-color: #008080; font-weight: bold\">1</span>,\n",
       "            <span style=\"color: #008000; text-decoration-color: #008000\">'WDT (wh-determiner)'</span>: <span style=\"color: #008080; text-decoration-color: #008080; font-weight: bold\">1</span>\n",
       "        <span style=\"font-weight: bold\">}</span>,\n",
       "        <span style=\"color: #008000; text-decoration-color: #008000\">'misc'</span>: <span style=\"font-weight: bold\">[</span><span style=\"color: #008000; text-decoration-color: #008000\">'MD'</span>, <span style=\"color: #008000; text-decoration-color: #008000\">'FW'</span>, <span style=\"color: #008000; text-decoration-color: #008000\">'UH'</span>, <span style=\"color: #008000; text-decoration-color: #008000\">'WRB'</span><span style=\"font-weight: bold\">]</span>\n",
       "    <span style=\"font-weight: bold\">}</span>\n",
       "<span style=\"font-weight: bold\">}</span>\n",
       "</pre>\n"
      ],
      "text/plain": [
       "\u001b[1m{\u001b[0m\n",
       "    \u001b[32m'Dictionary Type'\u001b[0m: \u001b[32m'categorical \u001b[0m\u001b[32m(\u001b[0m\u001b[32mmulti-label\u001b[0m\u001b[32m)\u001b[0m\u001b[32m'\u001b[0m,\n",
       "    \u001b[32m'Sentiment Score'\u001b[0m: \u001b[1m{\u001b[0m\n",
       "        \u001b[32m'labels'\u001b[0m: \u001b[1m[\u001b[0m\n",
       "            \u001b[32m'Negative'\u001b[0m,\n",
       "            \u001b[32m'Uncertainty'\u001b[0m,\n",
       "            \u001b[32m'Constraining'\u001b[0m,\n",
       "            \u001b[32m'Positive'\u001b[0m,\n",
       "            \u001b[32m'Litigious'\u001b[0m,\n",
       "            \u001b[32m'Weak_Modal'\u001b[0m,\n",
       "            \u001b[32m'Strong_Modal'\u001b[0m\n",
       "        \u001b[1m]\u001b[0m,\n",
       "        \u001b[32m'label frequency'\u001b[0m: \u001b[1m{\u001b[0m\n",
       "            \u001b[32m'Negative'\u001b[0m: \u001b[1;36m2355\u001b[0m,\n",
       "            \u001b[32m'Litigious'\u001b[0m: \u001b[1;36m905\u001b[0m,\n",
       "            \u001b[32m'Positive'\u001b[0m: \u001b[1;36m354\u001b[0m,\n",
       "            \u001b[32m'Uncertainty'\u001b[0m: \u001b[1;36m297\u001b[0m,\n",
       "            \u001b[32m'Constraining'\u001b[0m: \u001b[1;36m184\u001b[0m,\n",
       "            \u001b[32m'Weak_Modal'\u001b[0m: \u001b[1;36m27\u001b[0m,\n",
       "            \u001b[32m'Strong_Modal'\u001b[0m: \u001b[1;36m19\u001b[0m\n",
       "        \u001b[1m}\u001b[0m,\n",
       "        \u001b[32m'multi label frequency'\u001b[0m: \u001b[1m{\u001b[0m\n",
       "            \u001b[1m(\u001b[0m\u001b[32m'Negative'\u001b[0m, \u001b[32m'Litigious'\u001b[0m\u001b[1m)\u001b[0m: \u001b[1;36m154\u001b[0m,\n",
       "            \u001b[1m(\u001b[0m\u001b[32m'Negative'\u001b[0m, \u001b[32m'Uncertainty'\u001b[0m\u001b[1m)\u001b[0m: \u001b[1;36m40\u001b[0m,\n",
       "            \u001b[1m(\u001b[0m\u001b[32m'Negative'\u001b[0m, \u001b[32m'Constraining'\u001b[0m\u001b[1m)\u001b[0m: \u001b[1;36m31\u001b[0m,\n",
       "            \u001b[1m(\u001b[0m\u001b[32m'Uncertainty'\u001b[0m, \u001b[32m'Weak_Modal'\u001b[0m\u001b[1m)\u001b[0m: \u001b[1;36m27\u001b[0m,\n",
       "            \u001b[1m(\u001b[0m\u001b[32m'Litigious'\u001b[0m, \u001b[32m'Constraining'\u001b[0m\u001b[1m)\u001b[0m: \u001b[1;36m9\u001b[0m,\n",
       "            \u001b[1m(\u001b[0m\u001b[32m'Negative'\u001b[0m, \u001b[32m'Litigious'\u001b[0m, \u001b[32m'Constraining'\u001b[0m\u001b[1m)\u001b[0m: \u001b[1;36m6\u001b[0m,\n",
       "            \u001b[1m(\u001b[0m\u001b[32m'Uncertainty'\u001b[0m, \u001b[32m'Constraining'\u001b[0m\u001b[1m)\u001b[0m: \u001b[1;36m5\u001b[0m,\n",
       "            \u001b[1m(\u001b[0m\u001b[32m'Positive'\u001b[0m, \u001b[32m'Strong_Modal'\u001b[0m\u001b[1m)\u001b[0m: \u001b[1;36m4\u001b[0m,\n",
       "            \u001b[1m(\u001b[0m\u001b[32m'Uncertainty'\u001b[0m, \u001b[32m'Weak_Modal'\u001b[0m, \u001b[32m'Constraining'\u001b[0m\u001b[1m)\u001b[0m: \u001b[1;36m3\u001b[0m,\n",
       "            \u001b[1m(\u001b[0m\u001b[32m'Weak_Modal'\u001b[0m, \u001b[32m'Constraining'\u001b[0m\u001b[1m)\u001b[0m: \u001b[1;36m3\u001b[0m,\n",
       "            \u001b[1m(\u001b[0m\u001b[32m'Positive'\u001b[0m, \u001b[32m'Litigious'\u001b[0m\u001b[1m)\u001b[0m: \u001b[1;36m1\u001b[0m\n",
       "        \u001b[1m}\u001b[0m\n",
       "    \u001b[1m}\u001b[0m,\n",
       "    \u001b[32m'Sentiment Lexicon'\u001b[0m: \u001b[1m{\u001b[0m\n",
       "        \u001b[32m'general'\u001b[0m: \u001b[1m{\u001b[0m\n",
       "            \u001b[32m'nouns'\u001b[0m: \u001b[1;36m1650\u001b[0m,\n",
       "            \u001b[32m'verbs'\u001b[0m: \u001b[1;36m1422\u001b[0m,\n",
       "            \u001b[32m'adjectives'\u001b[0m: \u001b[1;36m513\u001b[0m,\n",
       "            \u001b[32m'adverbs'\u001b[0m: \u001b[1;36m262\u001b[0m,\n",
       "            \u001b[32m'prepositions'\u001b[0m: \u001b[1;36m16\u001b[0m,\n",
       "            \u001b[32m'miscellaneous'\u001b[0m: \u001b[1;36m12\u001b[0m,\n",
       "            \u001b[32m'determiners'\u001b[0m: \u001b[1;36m1\u001b[0m,\n",
       "            \u001b[32m'conjunctions'\u001b[0m: \u001b[1;36m0\u001b[0m,\n",
       "            \u001b[32m'pronouns'\u001b[0m: \u001b[1;36m0\u001b[0m,\n",
       "            \u001b[32m'numerals'\u001b[0m: \u001b[1;36m0\u001b[0m,\n",
       "            \u001b[32m'particles'\u001b[0m: \u001b[1;36m0\u001b[0m,\n",
       "            \u001b[32m'emos'\u001b[0m: \u001b[1;36m0\u001b[0m\n",
       "        \u001b[1m}\u001b[0m,\n",
       "        \u001b[32m'granular'\u001b[0m: \u001b[1m{\u001b[0m\n",
       "            \u001b[32m'NN \u001b[0m\u001b[32m(\u001b[0m\u001b[32mnoun, singular or mass\u001b[0m\u001b[32m)\u001b[0m\u001b[32m'\u001b[0m: \u001b[1;36m830\u001b[0m,\n",
       "            \u001b[32m'NNS \u001b[0m\u001b[32m(\u001b[0m\u001b[32mnoun, plural\u001b[0m\u001b[32m)\u001b[0m\u001b[32m'\u001b[0m: \u001b[1;36m741\u001b[0m,\n",
       "            \u001b[32m'JJ \u001b[0m\u001b[32m(\u001b[0m\u001b[32madjective\u001b[0m\u001b[32m)\u001b[0m\u001b[32m'\u001b[0m: \u001b[1;36m495\u001b[0m,\n",
       "            \u001b[32m'VBG \u001b[0m\u001b[32m(\u001b[0m\u001b[32mverb, gerund or present participle\u001b[0m\u001b[32m)\u001b[0m\u001b[32m'\u001b[0m: \u001b[1;36m434\u001b[0m,\n",
       "            \u001b[32m'VBD \u001b[0m\u001b[32m(\u001b[0m\u001b[32mverb, past tense\u001b[0m\u001b[32m)\u001b[0m\u001b[32m'\u001b[0m: \u001b[1;36m341\u001b[0m,\n",
       "            \u001b[32m'VB \u001b[0m\u001b[32m(\u001b[0m\u001b[32mverb, base form\u001b[0m\u001b[32m)\u001b[0m\u001b[32m'\u001b[0m: \u001b[1;36m338\u001b[0m,\n",
       "            \u001b[32m'RB \u001b[0m\u001b[32m(\u001b[0m\u001b[32madverb\u001b[0m\u001b[32m)\u001b[0m\u001b[32m'\u001b[0m: \u001b[1;36m257\u001b[0m,\n",
       "            \u001b[32m'VBN \u001b[0m\u001b[32m(\u001b[0m\u001b[32mverb, past participle\u001b[0m\u001b[32m)\u001b[0m\u001b[32m'\u001b[0m: \u001b[1;36m152\u001b[0m,\n",
       "            \u001b[32m'VBZ \u001b[0m\u001b[32m(\u001b[0m\u001b[32mverb, 3rd person singular present\u001b[0m\u001b[32m)\u001b[0m\u001b[32m'\u001b[0m: \u001b[1;36m150\u001b[0m,\n",
       "            \u001b[32m'NNP \u001b[0m\u001b[32m(\u001b[0m\u001b[32mnoun, proper singular\u001b[0m\u001b[32m)\u001b[0m\u001b[32m'\u001b[0m: \u001b[1;36m79\u001b[0m,\n",
       "            \u001b[32m'IN \u001b[0m\u001b[32m(\u001b[0m\u001b[32mconjunction, subordinating or preposition\u001b[0m\u001b[32m)\u001b[0m\u001b[32m'\u001b[0m: \u001b[1;36m16\u001b[0m,\n",
       "            \u001b[32m'JJS \u001b[0m\u001b[32m(\u001b[0m\u001b[32madjective, superlative\u001b[0m\u001b[32m)\u001b[0m\u001b[32m'\u001b[0m: \u001b[1;36m12\u001b[0m,\n",
       "            \u001b[32m'VBP \u001b[0m\u001b[32m(\u001b[0m\u001b[32mverb, non-3rd person singular present\u001b[0m\u001b[32m)\u001b[0m\u001b[32m'\u001b[0m: \u001b[1;36m7\u001b[0m,\n",
       "            \u001b[32m'MD \u001b[0m\u001b[32m(\u001b[0m\u001b[32mverb, modal auxiliary\u001b[0m\u001b[32m)\u001b[0m\u001b[32m'\u001b[0m: \u001b[1;36m7\u001b[0m,\n",
       "            \u001b[32m'JJR \u001b[0m\u001b[32m(\u001b[0m\u001b[32madjective, comparative\u001b[0m\u001b[32m)\u001b[0m\u001b[32m'\u001b[0m: \u001b[1;36m6\u001b[0m,\n",
       "            \u001b[32m'RBR \u001b[0m\u001b[32m(\u001b[0m\u001b[32madverb, comparative\u001b[0m\u001b[32m)\u001b[0m\u001b[32m'\u001b[0m: \u001b[1;36m4\u001b[0m,\n",
       "            \u001b[32m'FW \u001b[0m\u001b[32m(\u001b[0m\u001b[32mforeign word\u001b[0m\u001b[32m)\u001b[0m\u001b[32m'\u001b[0m: \u001b[1;36m2\u001b[0m,\n",
       "            \u001b[32m'WRB \u001b[0m\u001b[32m(\u001b[0m\u001b[32mwh-adverb\u001b[0m\u001b[32m)\u001b[0m\u001b[32m'\u001b[0m: \u001b[1;36m2\u001b[0m,\n",
       "            \u001b[32m'RBS \u001b[0m\u001b[32m(\u001b[0m\u001b[32madverb, superlative\u001b[0m\u001b[32m)\u001b[0m\u001b[32m'\u001b[0m: \u001b[1;36m1\u001b[0m,\n",
       "            \u001b[32m'UH \u001b[0m\u001b[32m(\u001b[0m\u001b[32minterjection\u001b[0m\u001b[32m)\u001b[0m\u001b[32m'\u001b[0m: \u001b[1;36m1\u001b[0m,\n",
       "            \u001b[32m'WDT \u001b[0m\u001b[32m(\u001b[0m\u001b[32mwh-determiner\u001b[0m\u001b[32m)\u001b[0m\u001b[32m'\u001b[0m: \u001b[1;36m1\u001b[0m\n",
       "        \u001b[1m}\u001b[0m,\n",
       "        \u001b[32m'misc'\u001b[0m: \u001b[1m[\u001b[0m\u001b[32m'MD'\u001b[0m, \u001b[32m'FW'\u001b[0m, \u001b[32m'UH'\u001b[0m, \u001b[32m'WRB'\u001b[0m\u001b[1m]\u001b[0m\n",
       "    \u001b[1m}\u001b[0m\n",
       "\u001b[1m}\u001b[0m\n"
      ]
     },
     "metadata": {},
     "output_type": "display_data"
    }
   ],
   "source": [
    "from sentibank import archive\n",
    "from sentibank.utils import analyze\n",
    "\n",
    "analyze = analyze()\n",
    "analyze.dictionary(dictionary=\"MASTER_v2022\")"
   ]
  },
  {
   "cell_type": "markdown",
   "metadata": {},
   "source": [
    "This will provide you with a summary of the sentiment scores and lexicon structure. You can further explore and analyse other sentiment dictionaries using the same approach."
   ]
  },
  {
   "cell_type": "markdown",
   "metadata": {},
   "source": [
    "`````{admonition} Utilising analyze.dictionary\n",
    ":class: tip \n",
    "\n",
    "The `analyze.dictionary` covers both holistic sentiment statistics as well as detailed lexical category analysis. Together these provide both the forest and the trees - from overall sentiment trends down to word type composition:\n",
    "\n",
    " - **Dictionary Type**: Indicates if the sentiment is measured via labels (discrete/categorical) or scores (continuous). The type includes `categorical`, `discrete`, `continuous`, `categorical (multi-label)`, and `discrete (multi-label)`. \n",
    "\n",
    " - **Sentiment Score**: Distribution statistics of sentiment labels or scores. For labels, it summarises the frequency of labels within the dictionary. For scores, it summarises the overall  sentiment distribution, such as frequency, mean, median, range, and standard deviation. \n",
    "\n",
    " - **Sentiment Lexicon**: Breaks down lexicon by its Parts-of Speech (POS). Provides frequency counts for categories like nouns, adjectives, verbs, emoticons, and more. Useful for understanding lexicon composition.\n",
    "\t- **General POS Tags**: A general overview of POS tags using simplified [Universal POS tagging system](https://universaldependencies.org/u/pos/) influenced by [NLTK](https://www.nltk.org/book/ch05.html). Includes `adjectives`,  `adverbs`, `conjunctions`, `determiners`, `emos` (emoticons and emojis), `nouns`, `numerals`, `particles`, `prepositions`, `pronouns`, `verbs`,  `miscellaneous`.     \n",
    "\t- **Granular POS Tags**: More fine-grained lexical breakdown using [OntoNotes(ver5.0)](https://catalog.ldc.upenn.edu/LDC2013T19) tagging system. Includes singular/plural nouns, comparative/superlative adjectives, verb tenses, and more. Enables deeper lexical analysis.\n",
    " \t- **Miscellaneous POS**: Catches any rare or unknown Part-of-Speech tags for completeness.\n",
    "`````"
   ]
  },
  {
   "cell_type": "markdown",
   "metadata": {},
   "source": [
    "```{warning} \n",
    "Please note that the input for `analyze.dictionary` must be either predefined dictionary identifier or processed dictionary loaded with `sentibank.archive.load().dict`. Also note that `SenticNet_v{year}_attributes`are currently not compatible with such module.\n",
    "``` "
   ]
  }
 ],
 "metadata": {
  "kernelspec": {
   "display_name": "Python 3",
   "language": "python",
   "name": "python3"
  },
  "language_info": {
   "codemirror_mode": {
    "name": "ipython",
    "version": 3
   },
   "file_extension": ".py",
   "mimetype": "text/x-python",
   "name": "python",
   "nbconvert_exporter": "python",
   "pygments_lexer": "ipython3",
   "version": "3.9.12"
  },
  "widgets": {
   "application/vnd.jupyter.widget-state+json": {
    "state": {
     "42f03887ecbb40c7ba6e8346c0f9c5b8": {
      "model_module": "@jupyter-widgets/base",
      "model_module_version": "1.2.0",
      "model_name": "LayoutModel",
      "state": {
       "_model_module": "@jupyter-widgets/base",
       "_model_module_version": "1.2.0",
       "_model_name": "LayoutModel",
       "_view_count": null,
       "_view_module": "@jupyter-widgets/base",
       "_view_module_version": "1.2.0",
       "_view_name": "LayoutView",
       "align_content": null,
       "align_items": null,
       "align_self": null,
       "border": null,
       "bottom": null,
       "display": null,
       "flex": null,
       "flex_flow": null,
       "grid_area": null,
       "grid_auto_columns": null,
       "grid_auto_flow": null,
       "grid_auto_rows": null,
       "grid_column": null,
       "grid_gap": null,
       "grid_row": null,
       "grid_template_areas": null,
       "grid_template_columns": null,
       "grid_template_rows": null,
       "height": null,
       "justify_content": null,
       "justify_items": null,
       "left": null,
       "margin": null,
       "max_height": null,
       "max_width": null,
       "min_height": null,
       "min_width": null,
       "object_fit": null,
       "object_position": null,
       "order": null,
       "overflow": null,
       "overflow_x": null,
       "overflow_y": null,
       "padding": null,
       "right": null,
       "top": null,
       "visibility": null,
       "width": null
      }
     },
     "8191fc7700c5411a8fdeede6ffaecc04": {
      "model_module": "@jupyter-widgets/output",
      "model_module_version": "1.0.0",
      "model_name": "OutputModel",
      "state": {
       "_dom_classes": [],
       "_model_module": "@jupyter-widgets/output",
       "_model_module_version": "1.0.0",
       "_model_name": "OutputModel",
       "_view_count": null,
       "_view_module": "@jupyter-widgets/output",
       "_view_module_version": "1.0.0",
       "_view_name": "OutputView",
       "layout": "IPY_MODEL_8ddb9b946ebb4705b462211495923258",
       "msg_id": "",
       "outputs": [
        {
         "data": {
          "text/html": "<pre style=\"white-space:pre;overflow-x:auto;line-height:normal;font-family:Menlo,'DejaVu Sans Mono',consolas,'Courier New',monospace\">Computing Summary Statistics of Sentiment Scores <span style=\"color: #729c1f; text-decoration-color: #729c1f\">━━━━━━━━━━━━━━━━━━━━━━━━━━━━━━━━━━━━━━━━</span> <span style=\"color: #800080; text-decoration-color: #800080\">100%</span> <span style=\"color: #808000; text-decoration-color: #808000\">0:00:00</span>\n</pre>\n",
          "text/plain": "Computing Summary Statistics of Sentiment Scores \u001b[38;2;114;156;31m━━━━━━━━━━━━━━━━━━━━━━━━━━━━━━━━━━━━━━━━\u001b[0m \u001b[35m100%\u001b[0m \u001b[33m0:00:00\u001b[0m\n"
         },
         "metadata": {},
         "output_type": "display_data"
        }
       ]
      }
     },
     "8ddb9b946ebb4705b462211495923258": {
      "model_module": "@jupyter-widgets/base",
      "model_module_version": "1.2.0",
      "model_name": "LayoutModel",
      "state": {
       "_model_module": "@jupyter-widgets/base",
       "_model_module_version": "1.2.0",
       "_model_name": "LayoutModel",
       "_view_count": null,
       "_view_module": "@jupyter-widgets/base",
       "_view_module_version": "1.2.0",
       "_view_name": "LayoutView",
       "align_content": null,
       "align_items": null,
       "align_self": null,
       "border": null,
       "bottom": null,
       "display": null,
       "flex": null,
       "flex_flow": null,
       "grid_area": null,
       "grid_auto_columns": null,
       "grid_auto_flow": null,
       "grid_auto_rows": null,
       "grid_column": null,
       "grid_gap": null,
       "grid_row": null,
       "grid_template_areas": null,
       "grid_template_columns": null,
       "grid_template_rows": null,
       "height": null,
       "justify_content": null,
       "justify_items": null,
       "left": null,
       "margin": null,
       "max_height": null,
       "max_width": null,
       "min_height": null,
       "min_width": null,
       "object_fit": null,
       "object_position": null,
       "order": null,
       "overflow": null,
       "overflow_x": null,
       "overflow_y": null,
       "padding": null,
       "right": null,
       "top": null,
       "visibility": null,
       "width": null
      }
     },
     "d9cc9d450fd44580b4531bb584720674": {
      "model_module": "@jupyter-widgets/output",
      "model_module_version": "1.0.0",
      "model_name": "OutputModel",
      "state": {
       "_dom_classes": [],
       "_model_module": "@jupyter-widgets/output",
       "_model_module_version": "1.0.0",
       "_model_name": "OutputModel",
       "_view_count": null,
       "_view_module": "@jupyter-widgets/output",
       "_view_module_version": "1.0.0",
       "_view_name": "OutputView",
       "layout": "IPY_MODEL_42f03887ecbb40c7ba6e8346c0f9c5b8",
       "msg_id": "",
       "outputs": [
        {
         "data": {
          "text/html": "<pre style=\"white-space:pre;overflow-x:auto;line-height:normal;font-family:Menlo,'DejaVu Sans Mono',consolas,'Courier New',monospace\">Extracting Summary Insights from Sentiment Lexicons <span style=\"color: #729c1f; text-decoration-color: #729c1f\">━━━━━━━━━━━━━━━━━━━━━━━━━━━━━━━━━━━━━━━━</span> <span style=\"color: #800080; text-decoration-color: #800080\">100%</span> <span style=\"color: #808000; text-decoration-color: #808000\">0:00:05</span>\n</pre>\n",
          "text/plain": "Extracting Summary Insights from Sentiment Lexicons \u001b[38;2;114;156;31m━━━━━━━━━━━━━━━━━━━━━━━━━━━━━━━━━━━━━━━━\u001b[0m \u001b[35m100%\u001b[0m \u001b[33m0:00:05\u001b[0m\n"
         },
         "metadata": {},
         "output_type": "display_data"
        }
       ]
      }
     }
    },
    "version_major": 2,
    "version_minor": 0
   }
  }
 },
 "nbformat": 4,
 "nbformat_minor": 2
}