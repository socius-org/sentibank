{
 "cells": [
  {
   "cell_type": "markdown",
   "metadata": {},
   "source": [
    "# ANEW"
   ]
  },
  {
   "cell_type": "markdown",
   "metadata": {},
   "source": [
    "`````{admonition} ANEW summary \n",
    ":class: tip\n",
    "\n",
    "**Overview:** The Affective Norms for English Words (ANEW) provides emotional ratings for a large number of English words across the dimensions of `pleasure`, `arousal`, and `dominance`. \n",
    "\n",
    "**Composition:** \n",
    "- Approximately 1k unigram lexicon entries\n",
    "- Continuous scoring metrics ranging [1,9] (1 indicating low values and 9 indicating high values)\n",
    "- Note that the processed dictionary scaled the original values into values ranging [-4, 4]\n",
    "\n",
    "**Creation Methodology:**  \n",
    "- Crowdsourced ratings from undergraduate native English speakers using the Self-Assessment Manikin (SAM) scale\n",
    "- Each rater judged `pleasure`, `arousal`, and `dominance` for each word on scales from 1 to 9\n",
    "- Final scores are means of all raters\n",
    "\n",
    "**Evaluation:** Beyond noting neutral words have neutral arousal, ANEW lacked concrete verification. Its crowdsourced ratings may capture population-level connotations, but require further evaluation.\n",
    "\n",
    "**Usage Guidance:** Provides a wide coverage affective lexicon for English, but dimensionality requires care in application. Weighted version simplifies dimensions into a single sentiment score. Access via `sentibank.archive.load().dict(\"ANEW_v1999_simple\")` or `sentibank.archive.load().dict(\"ANEW_v1999_weighted\")`.\n",
    "`````"
   ]
  },
  {
   "cell_type": "markdown",
   "metadata": {},
   "source": [
    "```{contents}\n",
    ":local:\n",
    "```"
   ]
  },
  {
   "cell_type": "markdown",
   "metadata": {},
   "source": [
    "## 📋 Introduction \n",
    "\n",
    "ANEW, standing for Affective Norms for English Words, was developed to provide normative emotional ratings for a large number of words in the English language (Bradley and Lang, 1999). The goal was to compile a standardised set of emotional ratings on the affective dimensions of `pleasure`, `arousal`, and `dominance`. "
   ]
  },
  {
   "cell_type": "markdown",
   "metadata": {},
   "source": [
    "## 📚 Original Dictionary \n",
    "\n",
    "The original ANEW study leveraged prior research on emotional dimensions in language to select words for rating. Specifically, ANEW extracted 150 words from a study by Mehrabian and Russell (1974) that focused on the dimensions of pleasure, arousal and dominance in relation to behavioural responses. It also extracted 450 words from a normative study by Bellezza, Greenwald and Banaji (1986) examining the dimensions of pleasantness, imagery, and familiarity. \n",
    "\n",
    "By building on these pioneering studies on affective meaning, ANEW compiled an initial set of 600 words already identified as relevant for emotionality. This provided a strong starting point for crowdsourcing affective ratings and developing a large-scale lexicon of normative scores for the emotional dimensions `pleasure`, `arousal`, and `dominance`. Such three dimensions<sup>[1]</sup> were based on seminal research by Osgood, Suci and Tanenbaum (1957, cited in Bradley and Lang, 1999, p.1). Through factor analysis of emotional assessments, they identified these dimensions as accounting for the variance in affective meanings. \n",
    "\n",
    "To obtain normative ratings, Bradley and Lang (1999) organised a gender-balanced group of native English speaking undergraduates (from an introductory psychology class). These participants assessed each word on the three dimensions using the Self-Assessment Manikin (SAM) scale. SAM presents visual depictions of the dimension extremes using cartoon figures. For example, a frowning figure represents low pleasure while a smiling figure represents high pleasure. Each dimension is rated on a 9-point bipolar scale, with 1 indicating low and 9 indicating high.\n",
    "\n",
    "By crowdsourcing ratings, ANEW aimed to capture population-level connotations. The mean scores for each word provide standardised emotional benchmarks for research. In total, ANEW provides normative `pleasure`, `arousal`, and `dominance` ratings for 1,034 English words, in range of [1,9]. "
   ]
  },
  {
   "cell_type": "code",
   "execution_count": null,
   "metadata": {},
   "outputs": [],
   "source": [
    "from sentibank import archive\n",
    "\n",
    "load = archive.load()\n",
    "ANEW = load.origin(\"ANEW_v1999\")"
   ]
  },
  {
   "cell_type": "code",
   "execution_count": null,
   "metadata": {
    "tags": [
     "remove-input"
    ]
   },
   "outputs": [],
   "source": [
    "from itables import init_notebook_mode, show \n",
    "init_notebook_mode(all_interactive=True)\n",
    "show(df=ANEW, caption=\"ANEW (Bradley and Lang, 1999)\", maxBytes=0) "
   ]
  },
  {
   "cell_type": "markdown",
   "metadata": {},
   "source": [
    "## 🧹 Processed Dictionary \n",
    "### First-Pass Processing \n",
    "\n",
    "While pleasure, arousal, and dominance are all emotional dimensions, pleasure is most directly linked to positive/negative sentiment. Arousal and dominance can be more ambiguous - high arousal may be positive or negative depending on context. \n",
    "\n",
    "Thus, two processed versions were created:\n",
    "1. `ANEW_v1999_simple` - focuses solely on the pleasure dimension as an indicator of sentiment valence.\n",
    "2. `ANEW_v1999_weighted` - incorporates all dimensions using a weighted sum.\n",
    "\n",
    "`ANEW_v1999_simple` uses the mean pleasure rating, ranging from [-4,4], as the sentiment score. The original values ranging from [1,9] have been scaled using min-max scaling. \n",
    "\n",
    "`ANEW_v1999_weighted` incorporates all three dimensions into a single sentiment score using a weighted sum. Though Bradley and Lang (1999) suggested a link between `pleasure` and `arousal`, correlation analysis found these dimensions to be uncorrelated, while `pleasure` and `dominance` showed a strong positive correlation<sup>[2]</sup>. Given these relationships, pleasure was assigned a weight of 0.7, dominance 0.2, and arousal 0.1 in the weighted sum. The much higher weight for pleasure reflects its stronger direct association with sentiment valence. The non-zero weights for dominance and arousal incorporate those dimensions while still emphasising pleasure as the primary driver.  These initial weights provide a reasonable starting point, but can be further tuned based on insights into the domain or application. The weighted sum values are scaled using min-max scaling to range from [-4,4]. \n",
    "\n",
    "By providing versions with and without weighting, users can select the ANEW encoding most suitable for their application. The simple version focuses solely on emotional valence, while the weighted version incorporates additional affective dimensions."
   ]
  },
  {
   "cell_type": "markdown",
   "metadata": {},
   "source": [
    "## Note \n",
    "\n",
    "<sup>[1]</sup> The `pleasure` dimension ranges from positive feelings like happy, pleased, and hopeful at one extreme to negative feelings like unhappy, annoyed, and bored at the other. `Arousal` ranges from stimulated, excited, and frenzied on one end to relaxed, calm, and sleepy on the other. And `dominance` refers to feelings of control, from being cared-for, awed, and submissive at one extreme to being influential, important, and autonomous at the other.\n",
    "\n",
    "<sup>[2]</sup> While correlation does not imply causation, the strong positive relationship found between pleasure and dominance invites some interpretation: As pleasure increases, dominance also tends to increase. When individuals experience positive feelings like happiness, pleasure, or hope, they are also more likely to feel a sense of control, influence, and importance (dominance). Conversely, when individuals experience negative feelings like unhappiness, annoyance, or boredom, there is a tendency for individuals to feel more submissive or less influential. \n",
    "\n",
    "Another potential interpretation is that senses of autonomy and importance rise along with positive emotion. The positive correlation suggests that as people experience higher pleasure, they correspondingly feel more autonomous, influential, and important. However, further research is needed to explore the psychological mechanisms behind this relationship."
   ]
  }
 ],
 "metadata": {
  "kernelspec": {
   "display_name": "Python 3",
   "language": "python",
   "name": "python3"
  },
  "language_info": {
   "name": "python",
   "version": "3.10.0"
  }
 },
 "nbformat": 4,
 "nbformat_minor": 2
}
