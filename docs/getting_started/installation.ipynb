{
 "cells": [
  {
   "cell_type": "markdown",
   "metadata": {},
   "source": [
    "# <picture><source srcset=\"https://fonts.gstatic.com/s/e/notoemoji/latest/2699_fe0f/512.webp\" type=\"image/webp\"><img src=\"https://fonts.gstatic.com/s/e/notoemoji/latest/2699_fe0f/512.gif\" alt=\"⚙\" width=\"32\" height=\"32\"></picture> Installation\n",
    "\n",
    "`sentibank` can be installed directly from PyPI using pip:\n"
   ]
  },
  {
   "cell_type": "markdown",
   "metadata": {},
   "source": [
    "```python\n",
    "pip install sentibank\n",
    "```"
   ]
  },
  {
   "cell_type": "markdown",
   "metadata": {},
   "source": [
    "This will download the latest version and install the necessary dependencies. To upgrade the older version to the latest: "
   ]
  },
  {
   "cell_type": "markdown",
   "metadata": {},
   "source": [
    "```python\n",
    "pip install --upgrade sentibank\n",
    "``` "
   ]
  }
 ],
 "metadata": {
  "kernelspec": {
   "display_name": "base",
   "language": "python",
   "name": "python3"
  },
  "language_info": {
   "codemirror_mode": {
    "name": "ipython",
    "version": 3
   },
   "file_extension": ".py",
   "mimetype": "text/x-python",
   "name": "python",
   "nbconvert_exporter": "python",
   "pygments_lexer": "ipython3",
   "version": "3.9.12"
  },
  "orig_nbformat": 4
 },
 "nbformat": 4,
 "nbformat_minor": 2
}
